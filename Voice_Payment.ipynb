{
 "cells": [
  {
   "cell_type": "markdown",
   "metadata": {},
   "source": [
    "## Import Python libary"
   ]
  },
  {
   "cell_type": "code",
   "execution_count": 27,
   "metadata": {},
   "outputs": [],
   "source": [
    "import librosa\n",
    "import os\n",
    "import re\n",
    "import numpy as np\n",
    "import matplotlib.pyplot as plt"
   ]
  },
  {
   "cell_type": "markdown",
   "metadata": {},
   "source": [
    "## Global variable"
   ]
  },
  {
   "cell_type": "code",
   "execution_count": 28,
   "metadata": {},
   "outputs": [],
   "source": [
    "AudioFiles = []  # 包含所有的音檔"
   ]
  },
  {
   "cell_type": "markdown",
   "metadata": {},
   "source": [
    "## Read file"
   ]
  },
  {
   "cell_type": "code",
   "execution_count": 29,
   "metadata": {},
   "outputs": [],
   "source": [
    "def ReadFile(AudioFiles):\n",
    "    base_path = 'dataset'\n",
    "    for actor_id in os.listdir(base_path):\n",
    "        actor_path = os.path.join(base_path, actor_id)     # actor_path = dataset/id\n",
    "        tmp = []\n",
    "        \n",
    "        for book_id in os.listdir(actor_path):\n",
    "            book_path = os.path.join(actor_path, book_id)  # book_path = dataset/id/number\n",
    "            \n",
    "            for file_name in os.listdir(book_path):\n",
    "                if file_name.endswith('.flac'):\n",
    "                    file_path = os.path.join(book_path, file_name)  # file_path = dataset/id/number/file_name\n",
    "\n",
    "                    # 判斷音檔長度，大於10秒才保留\n",
    "                    duration = librosa.get_duration(path=file_path)\n",
    "                    if duration < 10: continue\n",
    "                    \n",
    "                    # 使用librosa加载音频\n",
    "                    y, sr = librosa.load(file_path, sr=None)\n",
    "                    tmp.append((y, sr))\n",
    "                    \n",
    "        AudioFiles.append(tmp)\n",
    "\n",
    "ReadFile(AudioFiles)\n"
   ]
  },
  {
   "cell_type": "markdown",
   "metadata": {},
   "source": [
    "## VAD and Noise reduction"
   ]
  },
  {
   "cell_type": "code",
   "execution_count": null,
   "metadata": {},
   "outputs": [],
   "source": [
    "def VAD():\n",
    "    pass\n",
    "\n",
    "def NoiseReduction():\n",
    "    pass"
   ]
  },
  {
   "cell_type": "code",
   "execution_count": null,
   "metadata": {},
   "outputs": [],
   "source": [
    "# The path of the dataset folder\n",
    "base_path = 'dataset'\n",
    "\n",
    "for actor_id in os.listdir(base_path):\n",
    "    actor_path = os.path.join(base_path, actor_id)     #actor_path = dataset/19\n",
    "    \n",
    "    for book_id in os.listdir(actor_path):\n",
    "        book_path = os.path.join(actor_path, book_id)  #actor_path = dataset/19/198\n",
    "        \n",
    "        melspectrograms = []\n",
    "        count = 0\n",
    "        \n",
    "        for file_name in os.listdir(book_path):\n",
    "            if file_name.endswith('.flac'):\n",
    "                file_path = os.path.join(book_path, file_name)\n",
    "\n",
    "                # 判斷音檔長度，大於10秒才保留\n",
    "                duration = librosa.get_duration(filename=file_path)\n",
    "                if duration < 10: continue\n",
    "                else: count += 1\n",
    "                \n",
    "                # 使用librosa加载音频\n",
    "                y, sr = librosa.load(file_path, sr=None)\n",
    "                \n",
    "                # 計算梅爾頻譜圖\n",
    "                melspectrogram = librosa.feature.melspectrogram(y=y, sr=sr)\n",
    "                # print(melspectrogram)\n",
    "                # print(melspectrogram.shape)\n",
    "\n",
    "                # 將梅爾頻譜圖轉換為分貝表示\n",
    "                log_melspectrogram = librosa.power_to_db(melspectrogram, ref=np.max)\n",
    "\n",
    "                # 顯示梅爾頻譜圖\n",
    "                librosa.display.specshow(log_melspectrogram, sr=sr, x_axis='time', y_axis='mel')\n",
    "                plt.colorbar(format='%+2.0f dB')\n",
    "                plt.show()\n",
    "\n",
    "                # 提取MFCC参数\n",
    "                # mfccs = librosa.feature.mfcc(y=y, sr=sr)\n",
    "                print(f\"Actor: {actor_id}, Book: {book_id}, File: {file_name}, MFCC Shape: {melspectrogram.shape}\")\n",
    "                # plt.figure(figsize=(10, 4))\n",
    "                # librosa.display.specshow(mfccs, x_axis='time', y_axis='mel')\n",
    "                # plt.colorbar()\n",
    "                # plt.title(f\"MFCC: {file_name}\")\n",
    "                # plt.show()\n",
    "                \n",
    "                # all_mfccs.append(mfccs)\n",
    "                # melspectrograms.append(melspectrogram)\n",
    "\n",
    "        print(f\"count: {count}\")\n",
    "        \n",
    "        # # 将所有的MFCC参数合并为一个numpy数组\n",
    "        # all_mfccs = np.concatenate(all_mfccs, axis=1)\n",
    "        \n",
    "        # # 保存MFCC参数为.npy文件\n",
    "        # mfccs_path = f'{actor_path}/mfccs'\n",
    "        # if not os.path.exists(mfccs_path):\n",
    "        #     os.makedirs(mfccs_path)\n",
    "\n",
    "        # file_id = file_name.split('.')[0]\n",
    "        # np.save(os.path.join(mfccs_path, f'{file_id}.npy'), all_mfccs)\n"
   ]
  },
  {
   "cell_type": "markdown",
   "metadata": {},
   "source": [
    "Words counts"
   ]
  },
  {
   "cell_type": "code",
   "execution_count": null,
   "metadata": {},
   "outputs": [],
   "source": [
    "target_words = [\"ZERO\", \"ONE\", \"TWO\", \"THREE\", \"FOUR\", \"FIVE\", \"SIX\", \"EIGHT\", \"NINE\", \"TEN\"]\n",
    "dataset_root = 'testest-code'\n",
    "word_counts = {word: 0 for word in target_words}\n",
    "\n",
    "actorNums = 0\n",
    "chapterNums = 0\n",
    "for actor_folder in os.listdir(dataset_root):\n",
    "    actor_path = os.path.join(dataset_root, actor_folder)\n",
    "    \n",
    "    if os.path.isdir(actor_path):\n",
    "\n",
    "        actorNums += 1\n",
    "        # print(f'Actor Folder: {actor_folder}')\n",
    "        \n",
    "        for script_folder in os.listdir(actor_path):\n",
    "            script_path = os.path.join(actor_path, script_folder)\n",
    "            \n",
    "            if os.path.isdir(script_path):\n",
    "                trans_file = os.path.join(script_path, f'{actor_folder}-{script_folder}.trans.txt')\n",
    "                \n",
    "                if os.path.exists(trans_file):\n",
    "                    chapterNums += 1\n",
    "                    with open(trans_file, 'r', encoding='utf-8') as f:\n",
    "                        script_text = f.read()\n",
    "                    \n",
    "                    for word in target_words:\n",
    "                        word_counts[word] += len(re.findall(r'\\b' + word + r'\\b', script_text, re.IGNORECASE))\n",
    "\n",
    "\n",
    "print(str(dataset_root))\n",
    "print('Total actors   : ' + str(actorNums))\n",
    "print('Total chapters : ' + str(chapterNums))\n",
    "for word, count in word_counts.items():\n",
    "    print(f'{word:{6}}: {count}')"
   ]
  }
 ],
 "metadata": {
  "kernelspec": {
   "display_name": "Python 3",
   "language": "python",
   "name": "python3"
  },
  "language_info": {
   "codemirror_mode": {
    "name": "ipython",
    "version": 3
   },
   "file_extension": ".py",
   "mimetype": "text/x-python",
   "name": "python",
   "nbconvert_exporter": "python",
   "pygments_lexer": "ipython3",
   "version": "3.11.5"
  }
 },
 "nbformat": 4,
 "nbformat_minor": 2
}
