{
 "cells": [
  {
   "cell_type": "markdown",
   "metadata": {},
   "source": [
    "## Import Python libary"
   ]
  },
  {
   "cell_type": "code",
   "execution_count": 56,
   "metadata": {},
   "outputs": [],
   "source": [
    "import librosa\n",
    "import numpy as np\n",
    "import pandas as pd\n",
    "import webrtcvad \n",
    "import os\n",
    "import re\n",
    "import matplotlib.pyplot as plt"
   ]
  },
  {
   "cell_type": "markdown",
   "metadata": {},
   "source": [
    "## Global variable"
   ]
  },
  {
   "cell_type": "code",
   "execution_count": 57,
   "metadata": {},
   "outputs": [],
   "source": [
    "Speakers = ['Emily', 'Ethan', 'Olivia', 'Liam', 'Sophia', 'Jackson', 'Ava', 'Aiden', 'Emma', 'Noah', 'Isabella', \n",
    "            'Lucas', 'Mia', 'Mason', 'Harper', 'Elijah', 'Abigail', 'Logan', 'Grace', 'Benjamin']\n",
    "NumOfSpeakers = 20\n",
    "AudioFiles = []  #包含所有的音檔：[[], [], []......]\n",
    "DataFrame = pd.DataFrame()  #包含所有音檔的DataFrame"
   ]
  },
  {
   "cell_type": "markdown",
   "metadata": {},
   "source": [
    "## Read file"
   ]
  },
  {
   "cell_type": "code",
   "execution_count": 58,
   "metadata": {},
   "outputs": [],
   "source": [
    "def ReadFile(AudioFiles):\n",
    "    base_path = 'dataset'\n",
    "    for actor_id in os.listdir(base_path):\n",
    "        actor_path = os.path.join(base_path, actor_id)     # actor_path = dataset/id\n",
    "        tmp = []\n",
    "        \n",
    "        for book_id in os.listdir(actor_path):\n",
    "            book_path = os.path.join(actor_path, book_id)  # book_path = dataset/id/number\n",
    "            \n",
    "            for file_name in os.listdir(book_path):\n",
    "                if file_name.endswith('.flac'):\n",
    "                    file_path = os.path.join(book_path, file_name)  # file_path = dataset/id/number/file_name\n",
    "\n",
    "                    # 判斷音檔長度，大於10秒才保留\n",
    "                    duration = librosa.get_duration(path=file_path)\n",
    "                    if duration < 10: continue\n",
    "                    \n",
    "                    # 使用librosa加载音频\n",
    "                    y, sr = librosa.load(file_path, sr=None)\n",
    "                    tmp.append((y, sr))\n",
    "        AudioFiles.append(tmp)\n",
    "\n",
    "ReadFile(AudioFiles)"
   ]
  },
  {
   "cell_type": "markdown",
   "metadata": {},
   "source": [
    "## VAD and Noise reduction"
   ]
  },
  {
   "cell_type": "code",
   "execution_count": 59,
   "metadata": {},
   "outputs": [],
   "source": [
    "def VAD():\n",
    "    pass\n",
    "\n",
    "def NoiseReduction():\n",
    "    pass"
   ]
  },
  {
   "cell_type": "markdown",
   "metadata": {},
   "source": [
    "## Extract Features"
   ]
  },
  {
   "cell_type": "markdown",
   "metadata": {},
   "source": [
    "##### Melspectrograms"
   ]
  },
  {
   "cell_type": "code",
   "execution_count": 60,
   "metadata": {},
   "outputs": [],
   "source": [
    "def Melspectrogram(y, sr):\n",
    "    # 計算梅爾頻譜圖\n",
    "    melspectrogram = librosa.feature.melspectrogram(y=y, sr=sr)\n",
    "    # 將梅爾頻譜圖轉換為分貝表示\n",
    "    log_melspectrogram = librosa.power_to_db(melspectrogram, ref=np.max)\n",
    "    # 顯示梅爾頻譜圖\n",
    "    # librosa.display.specshow(log_melspectrogram, sr=sr, x_axis='time', y_axis='mel')\n",
    "    # plt.colorbar(format='%+2.0f dB')\n",
    "    # plt.show()\n",
    "    return melspectrogram"
   ]
  },
  {
   "cell_type": "markdown",
   "metadata": {},
   "source": [
    "##### MFCC coefficient"
   ]
  },
  {
   "cell_type": "code",
   "execution_count": 61,
   "metadata": {},
   "outputs": [],
   "source": [
    "def MFCC(y, sr):\n",
    "    # 提取MFCC参数\n",
    "    mfcc = librosa.feature.mfcc(y=y, sr=sr)\n",
    "    return mfcc"
   ]
  },
  {
   "cell_type": "markdown",
   "metadata": {},
   "source": [
    "## Build DataFrame"
   ]
  },
  {
   "cell_type": "code",
   "execution_count": 62,
   "metadata": {},
   "outputs": [],
   "source": [
    "def BuildDataFrame():\n",
    "    DataFrame = pd.DataFrame(columns=['Melspectrogram', 'MFCC', 'Speaker'])\n",
    "    for i in range(NumOfSpeakers):\n",
    "        for audio_file in AudioFiles[i]:\n",
    "            data = pd.DataFrame({\n",
    "                'Melspectrogram': [Melspectrogram(audio_file[0], audio_file[1])], \n",
    "                'MFCC': [MFCC(audio_file[0], audio_file[1])], \n",
    "                'Speaker': Speakers[i]\n",
    "            })\n",
    "            DataFrame = pd.concat([DataFrame, data], ignore_index=True)\n",
    "    return DataFrame\n",
    "\n",
    "DataFrame = BuildDataFrame()"
   ]
  },
  {
   "cell_type": "code",
   "execution_count": 63,
   "metadata": {},
   "outputs": [
    {
     "data": {
      "text/html": [
       "<div>\n",
       "<style scoped>\n",
       "    .dataframe tbody tr th:only-of-type {\n",
       "        vertical-align: middle;\n",
       "    }\n",
       "\n",
       "    .dataframe tbody tr th {\n",
       "        vertical-align: top;\n",
       "    }\n",
       "\n",
       "    .dataframe thead th {\n",
       "        text-align: right;\n",
       "    }\n",
       "</style>\n",
       "<table border=\"1\" class=\"dataframe\">\n",
       "  <thead>\n",
       "    <tr style=\"text-align: right;\">\n",
       "      <th></th>\n",
       "      <th>Melspectrogram</th>\n",
       "      <th>MFCC</th>\n",
       "      <th>Speaker</th>\n",
       "    </tr>\n",
       "  </thead>\n",
       "  <tbody>\n",
       "    <tr>\n",
       "      <th>0</th>\n",
       "      <td>[[0.008053505, 0.004100157, 0.0042814706, 0.00...</td>\n",
       "      <td>[[-496.41382, -488.91962, -495.58084, -495.352...</td>\n",
       "      <td>Emily</td>\n",
       "    </tr>\n",
       "    <tr>\n",
       "      <th>1</th>\n",
       "      <td>[[0.011456508, 0.007573933, 0.0045426646, 0.00...</td>\n",
       "      <td>[[-366.32916, -360.35193, -398.2274, -442.2688...</td>\n",
       "      <td>Emily</td>\n",
       "    </tr>\n",
       "    <tr>\n",
       "      <th>2</th>\n",
       "      <td>[[0.016795631, 0.005932196, 0.006791729, 0.005...</td>\n",
       "      <td>[[-388.48203, -367.78357, -379.08673, -408.614...</td>\n",
       "      <td>Emily</td>\n",
       "    </tr>\n",
       "    <tr>\n",
       "      <th>3</th>\n",
       "      <td>[[0.014441341, 0.012013311, 0.0070638466, 0.00...</td>\n",
       "      <td>[[-366.47244, -343.3722, -358.45984, -371.5522...</td>\n",
       "      <td>Emily</td>\n",
       "    </tr>\n",
       "    <tr>\n",
       "      <th>4</th>\n",
       "      <td>[[0.016517285, 0.004992439, 0.0033724483, 0.01...</td>\n",
       "      <td>[[-444.45438, -414.44543, -419.1343, -425.3680...</td>\n",
       "      <td>Emily</td>\n",
       "    </tr>\n",
       "  </tbody>\n",
       "</table>\n",
       "</div>"
      ],
      "text/plain": [
       "                                      Melspectrogram  \\\n",
       "0  [[0.008053505, 0.004100157, 0.0042814706, 0.00...   \n",
       "1  [[0.011456508, 0.007573933, 0.0045426646, 0.00...   \n",
       "2  [[0.016795631, 0.005932196, 0.006791729, 0.005...   \n",
       "3  [[0.014441341, 0.012013311, 0.0070638466, 0.00...   \n",
       "4  [[0.016517285, 0.004992439, 0.0033724483, 0.01...   \n",
       "\n",
       "                                                MFCC Speaker  \n",
       "0  [[-496.41382, -488.91962, -495.58084, -495.352...   Emily  \n",
       "1  [[-366.32916, -360.35193, -398.2274, -442.2688...   Emily  \n",
       "2  [[-388.48203, -367.78357, -379.08673, -408.614...   Emily  \n",
       "3  [[-366.47244, -343.3722, -358.45984, -371.5522...   Emily  \n",
       "4  [[-444.45438, -414.44543, -419.1343, -425.3680...   Emily  "
      ]
     },
     "execution_count": 63,
     "metadata": {},
     "output_type": "execute_result"
    }
   ],
   "source": [
    "DataFrame[:5]"
   ]
  },
  {
   "cell_type": "markdown",
   "metadata": {},
   "source": [
    "Words counts"
   ]
  },
  {
   "cell_type": "code",
   "execution_count": null,
   "metadata": {},
   "outputs": [],
   "source": [
    "target_words = [\"ZERO\", \"ONE\", \"TWO\", \"THREE\", \"FOUR\", \"FIVE\", \"SIX\", \"EIGHT\", \"NINE\", \"TEN\"]\n",
    "dataset_root = 'testest-code'\n",
    "word_counts = {word: 0 for word in target_words}\n",
    "\n",
    "actorNums = 0\n",
    "chapterNums = 0\n",
    "for actor_folder in os.listdir(dataset_root):\n",
    "    actor_path = os.path.join(dataset_root, actor_folder)\n",
    "    \n",
    "    if os.path.isdir(actor_path):\n",
    "\n",
    "        actorNums += 1\n",
    "        # print(f'Actor Folder: {actor_folder}')\n",
    "        \n",
    "        for script_folder in os.listdir(actor_path):\n",
    "            script_path = os.path.join(actor_path, script_folder)\n",
    "            \n",
    "            if os.path.isdir(script_path):\n",
    "                trans_file = os.path.join(script_path, f'{actor_folder}-{script_folder}.trans.txt')\n",
    "                \n",
    "                if os.path.exists(trans_file):\n",
    "                    chapterNums += 1\n",
    "                    with open(trans_file, 'r', encoding='utf-8') as f:\n",
    "                        script_text = f.read()\n",
    "                    \n",
    "                    for word in target_words:\n",
    "                        word_counts[word] += len(re.findall(r'\\b' + word + r'\\b', script_text, re.IGNORECASE))\n",
    "\n",
    "\n",
    "print(str(dataset_root))\n",
    "print('Total actors   : ' + str(actorNums))\n",
    "print('Total chapters : ' + str(chapterNums))\n",
    "for word, count in word_counts.items():\n",
    "    print(f'{word:{6}}: {count}')"
   ]
  }
 ],
 "metadata": {
  "kernelspec": {
   "display_name": "Python 3",
   "language": "python",
   "name": "python3"
  },
  "language_info": {
   "codemirror_mode": {
    "name": "ipython",
    "version": 3
   },
   "file_extension": ".py",
   "mimetype": "text/x-python",
   "name": "python",
   "nbconvert_exporter": "python",
   "pygments_lexer": "ipython3",
   "version": "3.11.5"
  }
 },
 "nbformat": 4,
 "nbformat_minor": 2
}
