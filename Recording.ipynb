{
 "cells": [
  {
   "cell_type": "code",
   "execution_count": 1,
   "metadata": {},
   "outputs": [],
   "source": [
    "import soundfile as sf\n",
    "import sounddevice as sd\n",
    "import time"
   ]
  },
  {
   "cell_type": "markdown",
   "metadata": {},
   "source": [
    "### Generate the dataset of our group"
   ]
  },
  {
   "cell_type": "code",
   "execution_count": 2,
   "metadata": {},
   "outputs": [],
   "source": [
    "def Recording():\n",
    "    # 設定錄音次數\n",
    "    num_recordings = 20\n",
    "    # 錄音參數設定\n",
    "    duration = 15  # 錄音秒數\n",
    "    sample_rate = 16000  # 取樣率（samples per second）\n",
    "\n",
    "    for i in range(1, num_recordings + 1):\n",
    "        print(f\"Recording {i}...\") # 顯示這是第幾次錄音\n",
    "\n",
    "        # 倒數3秒後錄音開始\n",
    "        for i in range(3, 0, -1):\n",
    "            print(f\"Recording starts in {i} seconds...\")\n",
    "            time.sleep(1)\n",
    "            \n",
    "        # 開始錄音\n",
    "        print(\"Recording...\") \n",
    "        # 使用'sd.rec'錄音，將錄音資料存入'audio_data'\n",
    "        audio_data = sd.rec(int(sample_rate * duration), samplerate=sample_rate, channels=2, dtype='int16')\n",
    "\n",
    "        # 倒數剩餘時間\n",
    "        for remaining_time in range(duration, 0, -5):\n",
    "            print(f\"Time remaining: {remaining_time} seconds\")\n",
    "            time.sleep(5)\n",
    "\n",
    "        sd.wait()  # 等待錄音完成\n",
    "        # 錄音結束\n",
    "        print(\"Recording done!\") \n",
    "\n",
    "        # 將錄音資料保存為降噪前的音檔\n",
    "        audio_file_path = f\"our_own_dataset/name/audio_file_{i}.flac\"  # 記得把name換成自己的資料夾名稱\n",
    "        sf.write(audio_file_path, audio_data, sample_rate)\n",
    "        print(f\"Original audio file saved at: {audio_file_path}\")"
   ]
  },
  {
   "cell_type": "code",
   "execution_count": 3,
   "metadata": {},
   "outputs": [
    {
     "name": "stdout",
     "output_type": "stream",
     "text": [
      "Recording 1...\n",
      "Recording starts in 3 seconds...\n",
      "Recording starts in 2 seconds...\n",
      "Recording starts in 1 seconds...\n",
      "Recording...\n",
      "Time remaining: 15 seconds\n"
     ]
    },
    {
     "ename": "KeyboardInterrupt",
     "evalue": "",
     "output_type": "error",
     "traceback": [
      "\u001b[1;31m---------------------------------------------------------------------------\u001b[0m",
      "\u001b[1;31mKeyboardInterrupt\u001b[0m                         Traceback (most recent call last)",
      "\u001b[1;32md:\\Visual Studio Code\\Machine Learing\\Voice Payment\\Recording.ipynb 儲存格 3\u001b[0m line \u001b[0;36m1\n\u001b[1;32m----> <a href='vscode-notebook-cell:/d%3A/Visual%20Studio%20Code/Machine%20Learing/Voice%20Payment/Recording.ipynb#W2sZmlsZQ%3D%3D?line=0'>1</a>\u001b[0m Recording()\n",
      "\u001b[1;32md:\\Visual Studio Code\\Machine Learing\\Voice Payment\\Recording.ipynb 儲存格 3\u001b[0m line \u001b[0;36m2\n\u001b[0;32m     <a href='vscode-notebook-cell:/d%3A/Visual%20Studio%20Code/Machine%20Learing/Voice%20Payment/Recording.ipynb#W2sZmlsZQ%3D%3D?line=21'>22</a>\u001b[0m \u001b[39mfor\u001b[39;00m remaining_time \u001b[39min\u001b[39;00m \u001b[39mrange\u001b[39m(duration, \u001b[39m0\u001b[39m, \u001b[39m-\u001b[39m\u001b[39m5\u001b[39m):\n\u001b[0;32m     <a href='vscode-notebook-cell:/d%3A/Visual%20Studio%20Code/Machine%20Learing/Voice%20Payment/Recording.ipynb#W2sZmlsZQ%3D%3D?line=22'>23</a>\u001b[0m     \u001b[39mprint\u001b[39m(\u001b[39mf\u001b[39m\u001b[39m\"\u001b[39m\u001b[39mTime remaining: \u001b[39m\u001b[39m{\u001b[39;00mremaining_time\u001b[39m}\u001b[39;00m\u001b[39m seconds\u001b[39m\u001b[39m\"\u001b[39m)\n\u001b[1;32m---> <a href='vscode-notebook-cell:/d%3A/Visual%20Studio%20Code/Machine%20Learing/Voice%20Payment/Recording.ipynb#W2sZmlsZQ%3D%3D?line=23'>24</a>\u001b[0m     time\u001b[39m.\u001b[39;49msleep(\u001b[39m5\u001b[39;49m)\n\u001b[0;32m     <a href='vscode-notebook-cell:/d%3A/Visual%20Studio%20Code/Machine%20Learing/Voice%20Payment/Recording.ipynb#W2sZmlsZQ%3D%3D?line=25'>26</a>\u001b[0m sd\u001b[39m.\u001b[39mwait()  \u001b[39m# 等待錄音完成\u001b[39;00m\n\u001b[0;32m     <a href='vscode-notebook-cell:/d%3A/Visual%20Studio%20Code/Machine%20Learing/Voice%20Payment/Recording.ipynb#W2sZmlsZQ%3D%3D?line=26'>27</a>\u001b[0m \u001b[39m# 錄音結束\u001b[39;00m\n",
      "\u001b[1;31mKeyboardInterrupt\u001b[0m: "
     ]
    }
   ],
   "source": [
    "Recording()"
   ]
  }
 ],
 "metadata": {
  "kernelspec": {
   "display_name": "Python 3",
   "language": "python",
   "name": "python3"
  },
  "language_info": {
   "codemirror_mode": {
    "name": "ipython",
    "version": 3
   },
   "file_extension": ".py",
   "mimetype": "text/x-python",
   "name": "python",
   "nbconvert_exporter": "python",
   "pygments_lexer": "ipython3",
   "version": "3.11.5"
  }
 },
 "nbformat": 4,
 "nbformat_minor": 2
}
