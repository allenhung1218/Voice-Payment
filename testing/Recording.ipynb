{
 "cells": [
  {
   "cell_type": "code",
   "execution_count": 1,
   "metadata": {},
   "outputs": [],
   "source": [
    "import soundfile as sf\n",
    "import sounddevice as sd\n",
    "import time"
   ]
  },
  {
   "cell_type": "markdown",
   "metadata": {},
   "source": [
    "### Generate the dataset of our group"
   ]
  },
  {
   "cell_type": "code",
   "execution_count": 3,
   "metadata": {},
   "outputs": [],
   "source": [
    "def Recording():\n",
    "    # 設定錄音次數\n",
    "    num_recordings = 1\n",
    "    # 錄音參數設定\n",
    "    duration = 10 # 錄音秒數\n",
    "    sample_rate = 16000  # 取樣率（samples per second）\n",
    "\n",
    "    for i in range(1, num_recordings + 1):\n",
    "        print(f\"Recording {i}...\") # 顯示這是第幾次錄音\n",
    "\n",
    "        # 倒數3秒後錄音開始\n",
    "        for j in range(3, 0, -1):\n",
    "            print(f\"Recording starts in {j} seconds...\")\n",
    "            time.sleep(1)\n",
    "            \n",
    "        # 開始錄音\n",
    "        print(\"Recording...\") \n",
    "        # 使用'sd.rec'錄音，將錄音資料存入'audio_data'\n",
    "        audio_data = sd.rec(int(sample_rate * duration), samplerate=sample_rate, channels=1, dtype='int16')\n",
    "\n",
    "        # 倒數剩餘時間\n",
    "        for remaining_time in range(duration, 0, -1):\n",
    "            print(f\"Time remaining: {remaining_time} seconds\")\n",
    "            time.sleep(1)\n",
    "\n",
    "        sd.wait()  # 等待錄音完成\n",
    "        # 錄音結束\n",
    "        print(\"Recording done!\") \n",
    "\n",
    "        # 將錄音資料保存為降噪前的音檔\n",
    "        audio_file_path = f\"audio_file_{i}.flac\"  \n",
    "        sf.write(audio_file_path, audio_data, sample_rate)\n",
    "        print(f\"Original audio file saved at: {audio_file_path}\")\n",
    "\n",
    "#If you want to sent money to someone,\n",
    "#please say the sentence \"Hey Voice Payment, please transfer (How much: ex.$3000) to (who)\""
   ]
  },
  {
   "cell_type": "code",
   "execution_count": 11,
   "metadata": {},
   "outputs": [
    {
     "name": "stdout",
     "output_type": "stream",
     "text": [
      "Recording 1...\n",
      "Recording starts in 3 seconds...\n",
      "Recording starts in 2 seconds...\n",
      "Recording starts in 1 seconds...\n",
      "Recording...\n",
      "Time remaining: 10 seconds\n",
      "Time remaining: 9 seconds\n",
      "Time remaining: 8 seconds\n",
      "Time remaining: 7 seconds\n",
      "Time remaining: 6 seconds\n",
      "Time remaining: 5 seconds\n",
      "Time remaining: 4 seconds\n",
      "Time remaining: 3 seconds\n",
      "Time remaining: 2 seconds\n",
      "Time remaining: 1 seconds\n",
      "Recording done!\n",
      "Original audio file saved at: audio_file_1.flac\n"
     ]
    }
   ],
   "source": [
    "Recording()"
   ]
  }
 ],
 "metadata": {
  "kernelspec": {
   "display_name": "Python 3",
   "language": "python",
   "name": "python3"
  },
  "language_info": {
   "codemirror_mode": {
    "name": "ipython",
    "version": 3
   },
   "file_extension": ".py",
   "mimetype": "text/x-python",
   "name": "python",
   "nbconvert_exporter": "python",
   "pygments_lexer": "ipython3",
   "version": "3.10.5"
  }
 },
 "nbformat": 4,
 "nbformat_minor": 2
}
