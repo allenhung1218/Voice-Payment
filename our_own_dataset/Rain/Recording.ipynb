{
 "cells": [
  {
   "cell_type": "code",
   "execution_count": 1,
   "metadata": {},
   "outputs": [],
   "source": [
    "import soundfile as sf\n",
    "import sounddevice as sd\n",
    "import time"
   ]
  },
  {
   "cell_type": "markdown",
   "metadata": {},
   "source": [
    "### Generate the dataset of our group"
   ]
  },
  {
   "cell_type": "code",
   "execution_count": 43,
   "metadata": {},
   "outputs": [],
   "source": [
    "def Recording():\n",
    "    # 設定錄音次數\n",
    "    num_recordings = 4\n",
    "    # 錄音參數設定\n",
    "    duration = 180 # 錄音秒數\n",
    "    sample_rate = 16000  # 取樣率（samples per second）\n",
    "\n",
    "    for j in range(4, num_recordings + 1):\n",
    "        print(f\"Recording {j}...\") # 顯示這是第幾次錄音\n",
    "\n",
    "        # 倒數3秒後錄音開始\n",
    "        for i in range(3, 0, -1):\n",
    "            print(f\"Recording starts in {i} seconds...\")\n",
    "            time.sleep(1)\n",
    "            \n",
    "        # 開始錄音\n",
    "        print(\"Recording...\") \n",
    "        # 使用'sd.rec'錄音，將錄音資料存入'audio_data'\n",
    "        audio_data = sd.rec(int(sample_rate * duration), samplerate=sample_rate, channels=2, dtype='int16')\n",
    "\n",
    "        # 倒數剩餘時間\n",
    "        for remaining_time in range(duration, 0, -5):\n",
    "            print(f\"Time remaining: {remaining_time} seconds\")\n",
    "            time.sleep(5)\n",
    "\n",
    "        sd.wait()  # 等待錄音完成\n",
    "        # 錄音結束\n",
    "        print(\"Recording done!\") \n",
    "\n",
    "        # 將錄音資料保存為降噪前的音檔\n",
    "        audio_file_path = f\"audio_file_{j}.flac\"  \n",
    "        sf.write(audio_file_path, audio_data, sample_rate)\n",
    "        print(f\"Original audio file saved at: {audio_file_path}\")"
   ]
  },
  {
   "cell_type": "code",
   "execution_count": 44,
   "metadata": {},
   "outputs": [
    {
     "name": "stdout",
     "output_type": "stream",
     "text": [
      "Recording 4...\n",
      "Recording starts in 3 seconds...\n",
      "Recording starts in 2 seconds...\n",
      "Recording starts in 1 seconds...\n",
      "Recording...\n",
      "Time remaining: 180 seconds\n",
      "Time remaining: 175 seconds\n",
      "Time remaining: 170 seconds\n",
      "Time remaining: 165 seconds\n",
      "Time remaining: 160 seconds\n",
      "Time remaining: 155 seconds\n",
      "Time remaining: 150 seconds\n",
      "Time remaining: 145 seconds\n",
      "Time remaining: 140 seconds\n",
      "Time remaining: 135 seconds\n",
      "Time remaining: 130 seconds\n",
      "Time remaining: 125 seconds\n",
      "Time remaining: 120 seconds\n",
      "Time remaining: 115 seconds\n",
      "Time remaining: 110 seconds\n",
      "Time remaining: 105 seconds\n",
      "Time remaining: 100 seconds\n",
      "Time remaining: 95 seconds\n",
      "Time remaining: 90 seconds\n",
      "Time remaining: 85 seconds\n",
      "Time remaining: 80 seconds\n",
      "Time remaining: 75 seconds\n",
      "Time remaining: 70 seconds\n",
      "Time remaining: 65 seconds\n",
      "Time remaining: 60 seconds\n",
      "Time remaining: 55 seconds\n",
      "Time remaining: 50 seconds\n",
      "Time remaining: 45 seconds\n",
      "Time remaining: 40 seconds\n",
      "Time remaining: 35 seconds\n",
      "Time remaining: 30 seconds\n",
      "Time remaining: 25 seconds\n",
      "Time remaining: 20 seconds\n",
      "Time remaining: 15 seconds\n",
      "Time remaining: 10 seconds\n",
      "Time remaining: 5 seconds\n",
      "Recording done!\n",
      "Original audio file saved at: audio_file_4.flac\n"
     ]
    }
   ],
   "source": [
    "Recording()"
   ]
  }
 ],
 "metadata": {
  "kernelspec": {
   "display_name": "Python 3",
   "language": "python",
   "name": "python3"
  },
  "language_info": {
   "codemirror_mode": {
    "name": "ipython",
    "version": 3
   },
   "file_extension": ".py",
   "mimetype": "text/x-python",
   "name": "python",
   "nbconvert_exporter": "python",
   "pygments_lexer": "ipython3",
   "version": "3.10.5"
  }
 },
 "nbformat": 4,
 "nbformat_minor": 2
}
