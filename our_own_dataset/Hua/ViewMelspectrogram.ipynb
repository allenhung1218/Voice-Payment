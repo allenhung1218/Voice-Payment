{
 "cells": [
  {
   "cell_type": "code",
   "execution_count": 9,
   "metadata": {},
   "outputs": [],
   "source": [
    "import librosa\n",
    "import matplotlib.pyplot as plt\n",
    "import numpy as np"
   ]
  },
  {
   "cell_type": "code",
   "execution_count": null,
   "metadata": {},
   "outputs": [],
   "source": [
    "def viewMelspectrogram():\n",
    "    for i in range(4):\n",
    "        file_path = \"audio_file_\" + str(i+1) + \".flac\"\n",
    "        y, sr = librosa.load(file_path)\n",
    "\n",
    "        melspectrogram = librosa.feature.melspectrogram(y=y, sr=sr)\n",
    "        log_melspectrogram = librosa.power_to_db(melspectrogram, ref=np.max)\n",
    "        \n",
    "        plt.figure(figsize=(12, 6))\n",
    "        librosa.display.specshow(log_melspectrogram)\n",
    "        plt.colorbar(format='%+2.0f dB')\n",
    "        plt.show()\n",
    "\n",
    "viewMelspectrogram()"
   ]
  }
 ],
 "metadata": {
  "kernelspec": {
   "display_name": "Python 3",
   "language": "python",
   "name": "python3"
  },
  "language_info": {
   "codemirror_mode": {
    "name": "ipython",
    "version": 3
   },
   "file_extension": ".py",
   "mimetype": "text/x-python",
   "name": "python",
   "nbconvert_exporter": "python",
   "pygments_lexer": "ipython3",
   "version": "3.11.5"
  }
 },
 "nbformat": 4,
 "nbformat_minor": 2
}
